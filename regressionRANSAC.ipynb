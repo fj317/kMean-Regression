{
 "cells": [
  {
   "cell_type": "markdown",
   "metadata": {},
   "source": [
    "## Linear Regression and RANSAC"
   ]
  },
  {
   "cell_type": "raw",
   "metadata": {},
   "source": [
    "This example is adapted from: https://scikit-learn.org/stable/auto_examples/linear_model/plot_ransac.html"
   ]
  },
  {
   "cell_type": "code",
   "execution_count": 1,
   "metadata": {},
   "outputs": [],
   "source": [
    "# Load the modules we need\n",
    "import numpy as np\n",
    "from matplotlib import pyplot as plt\n",
    "from sklearn import linear_model, datasets"
   ]
  },
  {
   "cell_type": "code",
   "execution_count": 2,
   "metadata": {},
   "outputs": [],
   "source": [
    "#  Create some intial data\n",
    "n_samples = 1000\n",
    "\n",
    "X, y = datasets.make_regression(n_samples=n_samples, n_features=1,\n",
    "                                      n_informative=1, noise=10,\n",
    "                                      random_state=0)"
   ]
  },
  {
   "cell_type": "code",
   "execution_count": 3,
   "metadata": {},
   "outputs": [],
   "source": [
    "# Add some outlier data\n",
    "np.random.seed(0)\n",
    "n_outliers = 50\n",
    "X[:n_outliers] = 3 + 0.5 * np.random.normal(size=(n_outliers, 1))\n",
    "y[:n_outliers] = -3 + 10 * np.random.normal(size=n_outliers)"
   ]
  },
  {
   "cell_type": "code",
   "execution_count": 4,
   "metadata": {},
   "outputs": [],
   "source": [
    "# Create some test positions for for the lines we will draw\n",
    "line_X = np.arange(X.min(), X.max())[:, np.newaxis]"
   ]
  },
  {
   "cell_type": "code",
   "execution_count": 17,
   "metadata": {},
   "outputs": [],
   "source": [
    "from numpy.linalg import inv\n",
    "def linearRegression(XValues, YValues):\n",
    "    lineValues = np.zeros((2, 1))\n",
    "    matrixA = np.zeros((2, 2))\n",
    "    matrixB = np.zeros((2, 1))\n",
    "    sumX = 0\n",
    "    sumXSquare = 0\n",
    "    sumY = 0\n",
    "    sumXY = 0\n",
    "\n",
    "    for i in range (0, XValues.size):\n",
    "        sumX += XValues[i]\n",
    "        sumXSquare += XValues[i] ** 2\n",
    "        sumY += YValues[i]\n",
    "        sumXY += XValues[i] * YValues[i]\n",
    "\n",
    "    matrixA = [[int(sumXSquare), int(sumX)], [int(sumX), X.size]]\n",
    "    matrixB = [[int(sumXY)], [int(sumY)]]\n",
    "    matrixA = inv(matrixA)\n",
    "\n",
    "    lineValues = np.dot(matrixA, matrixB)\n",
    "    return lineValues"
   ]
  },
  {
   "cell_type": "code",
   "execution_count": 18,
   "metadata": {},
   "outputs": [
    {
     "name": "stdout",
     "output_type": "stream",
     "text": [
      "[-174.43697648 -120.23494336  -66.03291024  -11.83087713   42.37115599\n",
      "   96.57318911  150.77522222  204.97725534]\n"
     ]
    }
   ],
   "source": [
    "# This is the cell you need to replace to complete Task 2.\n",
    "# Fit line using all data.\n",
    "\n",
    "lineValues = linearRegression(X, y)\n",
    "line_y = np.zeros(line_X.size)\n",
    "for i in range (0, line_X.size):\n",
    "    line_y[i] = lineValues[0] * line_X[i] + lineValues[1]\n",
    "print(line_y)"
   ]
  },
  {
   "cell_type": "code",
   "execution_count": 11,
   "metadata": {},
   "outputs": [],
   "source": [
    "def RANSAC(iterationN, distance, inputPoint):\n",
    "    # line values go gradient, y-intercept\n",
    "    lineValues = np.zeros((iterationN, 2, 1))\n",
    "    numOfInliers = np.zeros(iterationN)\n",
    "    for i in range (0, iterationN):\n",
    "        # pick 2 random points\n",
    "        randomIndex = random.randrange(0, X.size)\n",
    "        pointOne = [X[randomIndex], y[randomIndex]]\n",
    "        randomIndex = random.randrange(0, X.size)\n",
    "        pointTwo = [X[randomIndex], y[randomIndex]]\n",
    "        # compute m & c values\n",
    "        gradient = (pointTwo[1] - pointOne[1]) / (pointTwo[0] - pointOne[0])\n",
    "        yIntercept = pointOne[1] - (gradient * pointOne[0])\n",
    "        lineValues[i] = [gradient, yIntercept]\n",
    "        # classify points as inliers or outliers\n",
    "        for j in range (0, X.size):\n",
    "            point = [X[j], y[j]]\n",
    "            distanceToModel = (abs((gradient*point[0]) - point[1] + yIntercept) / (math.sqrt(gradient**2 + 1)))\n",
    "            if distanceToModel <= distance:\n",
    "                # if less than distance then it is an inlier\n",
    "                numOfInliers[i] += 1\n",
    "    \n",
    "    # select m & c values with most inliers / fewest outliers outliers\n",
    "    bestModelIndex = int(list(numOfInliers).index(np.amax(numOfInliers)))\n",
    "    if inputPoint is not None:\n",
    "        # calculating if input point is inlier or outlier\n",
    "        distanceToModel = (abs((lineValues[bestModelIndex][0]*inputPoint[0]) - inputPoint[1] + lineValues[bestModelIndex][1]) / (math.sqrt(lineValues[bestModelIndex][0]**2 + 1)))\n",
    "        if distanceToModel <= distance:\n",
    "            print(\"Input point is an inlier\")\n",
    "        else:\n",
    "            print(\"Input point is an outlier\")\n",
    "    return lineValues[bestModelIndex]"
   ]
  },
  {
   "cell_type": "code",
   "execution_count": 15,
   "metadata": {},
   "outputs": [
    {
     "name": "stdout",
     "output_type": "stream",
     "text": [
      "[-258.39081599 -174.27795079  -90.1650856    -6.05222041   78.06064479\n",
      "  162.17350998  246.28637517  330.39924037]\n"
     ]
    }
   ],
   "source": [
    "# This is the cell you need to replace to complete Task 3.\n",
    "# Robustly fit linear model with RANSAC algorithm\n",
    "import random\n",
    "import math\n",
    "#lineValues = np.zeros((2, 1))\n",
    "\n",
    "# since S = 2, p = 0.99, proportion of outliers is 50/1000 thus 2 iterations required\n",
    "iterationN = 5\n",
    "distance = 0.5\n",
    "\n",
    "lineValues = RANSAC(iterationN, distance, None)\n",
    "\n",
    "line_y_ransac = np.zeros(line_X.size)\n",
    "for i in range (0, line_X.size):\n",
    "    line_y_ransac[i] = lineValues[0] * line_X[i] + lineValues[1]\n",
    "print(line_y_ransac)"
   ]
  },
  {
   "cell_type": "code",
   "execution_count": 16,
   "metadata": {},
   "outputs": [
    {
     "data": {
      "image/png": "[encoded data removed]",
      "text/plain": [
       "<Figure size 432x288 with 1 Axes>"
      ]
     },
     "metadata": {
      "needs_background": "light"
     },
     "output_type": "display_data"
    }
   ],
   "source": [
    "lw = 2\n",
    "\n",
    "doing_linear = True\n",
    "doing_ransac = True\n",
    "\n",
    "if (doing_linear):\n",
    "    plt.plot(line_X, line_y, color='navy', linewidth=lw, label='Linear regressor')\n",
    "\n",
    "if (doing_ransac):\n",
    "    plt.scatter(X[inlier_mask], y[inlier_mask], color='yellowgreen', marker='.', label='Inliers')\n",
    "    plt.scatter(X[outlier_mask], y[outlier_mask], color='gold', marker='.', label='Outliers')\n",
    "    plt.plot(line_X, line_y_ransac, color='cornflowerblue', linewidth=lw, label='RANSAC regressor')\n",
    "else:\n",
    "    plt.scatter(X, y, color='yellowgreen', marker='.', label='Data')\n",
    "    \n",
    "plt.legend(loc='lower right')\n",
    "plt.xlabel(\"Input\")\n",
    "plt.ylabel(\"Response\")\n",
    "plt.show()"
   ]
  },
  {
   "cell_type": "code",
   "execution_count": null,
   "metadata": {},
   "outputs": [],
   "source": []
  }
 ],
 "metadata": {
  "kernelspec": {
   "display_name": "Python 3",
   "language": "python",
   "name": "python3"
  },
  "language_info": {
   "codemirror_mode": {
    "name": "ipython",
    "version": 3
   },
   "file_extension": ".py",
   "mimetype": "text/x-python",
   "name": "python",
   "nbconvert_exporter": "python",
   "pygments_lexer": "ipython3",
   "version": "3.9.0"
  }
 },
 "nbformat": 4,
 "nbformat_minor": 2
}
